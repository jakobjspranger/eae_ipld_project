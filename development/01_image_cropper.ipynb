{
 "cells": [
  {
   "cell_type": "markdown",
   "metadata": {},
   "source": [
    "# Project 1: Image Cropper\n",
    "\n",
    "In this project we will be using NumPy to transform an image into an array, extract some basic information from it like its shape and size, and then crop it with a custom size. We will also be using PIL to read the image and Matplotlib to display it.\n",
    "\n",
    "There will be a default image to start with but this program shoud be able to work with any image.\n",
    "\n",
    "### Project Tasks:\n",
    "\n",
    "- `1.1.` Take the image array `img_arr` and get its shape and size.\n",
    "\n",
    "- `1.2.` Define the dimensions of the crop, make sure that min is smaller than max and also that min is larger than 0 and max is smaller than the size of the image for every dimension. If not, print a message explaining the error.\n",
    "\n",
    "- `1.3.` Crop the image into a new array and display it.\n",
    "\n",
    "- `1.4.` Save the cropped image as a new file, declaring a variable to chose the new file name."
   ]
  },
  {
   "cell_type": "code",
   "execution_count": 2,
   "metadata": {},
   "outputs": [],
   "source": [
    "# The library you have to use\n",
    "import numpy as np\n",
    "\n",
    "# Some extra libraries to deal with images and files\n",
    "from PIL import Image\n",
    "import matplotlib.pyplot as plt"
   ]
  },
  {
   "cell_type": "code",
   "execution_count": 3,
   "metadata": {},
   "outputs": [
    {
     "data": {
      "text/plain": [
       "<matplotlib.image.AxesImage at 0x11d94cf80>"
      ]
     },
     "execution_count": 3,
     "metadata": {},
     "output_type": "execute_result"
    },
    {
     "data": {
      "image/png": "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